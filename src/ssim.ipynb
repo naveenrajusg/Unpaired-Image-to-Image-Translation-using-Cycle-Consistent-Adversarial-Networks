{
 "cells": [
  {
   "cell_type": "code",
   "execution_count": 16,
   "id": "6a5164d3",
   "metadata": {},
   "outputs": [],
   "source": [
    "import os\n",
    "import cv2\n",
    "import matplotlib.pyplot as plt\n",
    "from skimage.metrics import structural_similarity as ssim\n",
    "\n"
   ]
  },
  {
   "cell_type": "code",
   "execution_count": 17,
   "id": "29251817",
   "metadata": {},
   "outputs": [],
   "source": [
    "%matplotlib inline\n",
    "\n",
    "def calc_ssim(path1):\n",
    "    ssim_val = 0\n",
    "    paths = os.listdir(path1)\n",
    "    for i in paths[:]:\n",
    "        img = cv2.imread(os.path.join(path1,i),0)\n",
    "#         print(img.shape)\n",
    "#         plt.imshow(img,'gray')\n",
    "#         plt.show()\n",
    "        a=img[:,:256]\n",
    "        b=img[:,512:]\n",
    "#         print(a.shape,b.shape)\n",
    "        ssim_val = ssim_val + ssim(a, b,data_range=a.max() - a.min())\n",
    "\n",
    "\n",
    "#         plt.subplot(121),plt.imshow(a,'gray')\n",
    "#         plt.subplot(122),plt.imshow(a,'gray')\n",
    "#         plt.show()\n",
    "#     print(ssim_val/len(paths))\n",
    "    return ssim_val/len(paths)"
   ]
  },
  {
   "cell_type": "markdown",
   "id": "fab6dbf1",
   "metadata": {},
   "source": [
    "### Folders named \"horse_cycledhorse\" and \"zebra_cycledzebra\" are kept in \"data\"->\"model1\" folder.\n",
    "### Please change the path before running the below cell."
   ]
  },
  {
   "cell_type": "code",
   "execution_count": 18,
   "id": "6f6018fa",
   "metadata": {},
   "outputs": [
    {
     "name": "stdout",
     "output_type": "stream",
     "text": [
      "Model1\n",
      "SSIM for real horse image and cycledhorse= 0.9175841212324788\n",
      "SSIM for real zebra image and cycledzebra= 0.9238155154388189\n"
     ]
    }
   ],
   "source": [
    "m1path1='E:/computer vision/project/changes/submisssion/data/model1/horse_cycledhorse/'\n",
    "m1path2='E:/computer vision/project/changes/submisssion/data/model1/zebra_cycledzebra/'\n",
    "m1ssim1=calc_ssim(m1path1)\n",
    "m1ssim2=calc_ssim(m1path2)\n",
    "print(\"Model1\")\n",
    "print(\"SSIM for real horse image and cycledhorse=\",m1ssim1)\n",
    "print(\"SSIM for real zebra image and cycledzebra=\",m1ssim2)"
   ]
  },
  {
   "cell_type": "markdown",
   "id": "75892788",
   "metadata": {},
   "source": [
    "### Folders named \"horse_cycledhorse\" and \"zebra_cycledzebra\" are kept in \"data\"->\"model2\" folder.\n",
    "### Please change the path before running the below cell."
   ]
  },
  {
   "cell_type": "code",
   "execution_count": 4,
   "id": "c05443f2",
   "metadata": {},
   "outputs": [
    {
     "name": "stdout",
     "output_type": "stream",
     "text": [
      "Model2\n",
      "SSIM for real horse image and cycledhorse= 0.7610375263044513\n",
      "SSIM for real zebra image and cycledzebra= 0.693508850267462\n"
     ]
    }
   ],
   "source": [
    "m1path1='E:/computer vision/project/changes/submisssion/data/model2/horse_cycledhorse/'\n",
    "m1path2='E:/computer vision/project/changes/submisssion/data/model2/zebra_cycledzebra/'\n",
    "m1ssim1=calc_ssim(m1path1)\n",
    "m1ssim2=calc_ssim(m1path2)\n",
    "print(\"Model2\")\n",
    "print(\"SSIM for real horse image and cycledhorse=\",m1ssim1)\n",
    "print(\"SSIM for real zebra image and cycledzebra=\",m1ssim2)"
   ]
  },
  {
   "cell_type": "markdown",
   "id": "0a69bf1d",
   "metadata": {},
   "source": [
    "### Folders named \"horse_cycledhorse\" and \"zebra_cycledzebra\" are kept in \"data\"->\"model3\" folder.\n",
    "### Please change the path before running the below cell."
   ]
  },
  {
   "cell_type": "code",
   "execution_count": 5,
   "id": "3420fa33",
   "metadata": {},
   "outputs": [
    {
     "name": "stdout",
     "output_type": "stream",
     "text": [
      "Model3\n",
      "SSIM for real horse image and cycledhorse= 0.8768675287415874\n",
      "SSIM for real zebra image and cycledzebra= 0.4908700691326795\n"
     ]
    }
   ],
   "source": [
    "m1path1='E:/computer vision/project/changes/submisssion/data/model3/horse_cycledhorse/'\n",
    "m1path2='E:/computer vision/project/changes/submisssion/data/model3/zebra_cycledzebra/'\n",
    "m1ssim1=calc_ssim(m1path1)\n",
    "m1ssim2=calc_ssim(m1path2)\n",
    "print(\"Model3\")\n",
    "print(\"SSIM for real horse image and cycledhorse=\",m1ssim1)\n",
    "print(\"SSIM for real zebra image and cycledzebra=\",m1ssim2)"
   ]
  },
  {
   "cell_type": "markdown",
   "id": "ba0a08e9",
   "metadata": {},
   "source": [
    "### Folders named \"horse_cycledhorse\" and \"zebra_cycledzebra\" are kept in \"data\"->\"model4\" folder.\n",
    "### Please change the path before running the below cell."
   ]
  },
  {
   "cell_type": "code",
   "execution_count": 6,
   "id": "372ba40b",
   "metadata": {},
   "outputs": [
    {
     "name": "stdout",
     "output_type": "stream",
     "text": [
      "Model4\n",
      "SSIM for real horse image and cycledhorse= 0.7625404184358221\n",
      "SSIM for real zebra image and cycledzebra= 0.7078700921030093\n"
     ]
    }
   ],
   "source": [
    "m1path1='E:/computer vision/project/changes/submisssion/data/model4/horse_cycledhorse/'\n",
    "m1path2='E:/computer vision/project/changes/submisssion/data/model4/zebra_cycledzebra/'\n",
    "m1ssim1=calc_ssim(m1path1)\n",
    "m1ssim2=calc_ssim(m1path2)\n",
    "print(\"Model4\")\n",
    "print(\"SSIM for real horse image and cycledhorse=\",m1ssim1)\n",
    "print(\"SSIM for real zebra image and cycledzebra=\",m1ssim2)"
   ]
  }
 ],
 "metadata": {
  "kernelspec": {
   "display_name": "Python 3 (ipykernel)",
   "language": "python",
   "name": "python3"
  },
  "language_info": {
   "codemirror_mode": {
    "name": "ipython",
    "version": 3
   },
   "file_extension": ".py",
   "mimetype": "text/x-python",
   "name": "python",
   "nbconvert_exporter": "python",
   "pygments_lexer": "ipython3",
   "version": "3.8.16"
  }
 },
 "nbformat": 4,
 "nbformat_minor": 5
}

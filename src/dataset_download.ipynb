{
 "cells": [
  {
   "cell_type": "code",
   "execution_count": 1,
   "id": "7d7d2bdf",
   "metadata": {},
   "outputs": [],
   "source": [
    "import tensorflow as tf"
   ]
  },
  {
   "cell_type": "code",
   "execution_count": 2,
   "id": "9a2e6b0a",
   "metadata": {},
   "outputs": [
    {
     "name": "stderr",
     "output_type": "stream",
     "text": [
      "C:\\Users\\navee\\anaconda3\\envs\\testing_clone\\lib\\site-packages\\tqdm\\auto.py:21: TqdmWarning: IProgress not found. Please update jupyter and ipywidgets. See https://ipywidgets.readthedocs.io/en/stable/user_install.html\n",
      "  from .autonotebook import tqdm as notebook_tqdm\n"
     ]
    }
   ],
   "source": [
    "import tensorflow_datasets as tfds\n",
    "import os"
   ]
  },
  {
   "cell_type": "code",
   "execution_count": 3,
   "id": "48522fb6",
   "metadata": {},
   "outputs": [],
   "source": [
    "dataset, metadata = tfds.load('cycle_gan/horse2zebra',\n",
    "                              with_info=True, as_supervised=True)\n",
    "\n",
    "train_horses, train_zebras = dataset['trainA'], dataset['trainB']\n",
    "test_horses, test_zebras = dataset['testA'], dataset['testB']"
   ]
  },
  {
   "cell_type": "code",
   "execution_count": 4,
   "id": "81dc6968",
   "metadata": {},
   "outputs": [],
   "source": [
    "from PIL import Image\n",
    "\n",
    "def save_images_as_png(dataset, directory):\n",
    "    os.makedirs(directory, exist_ok=True)\n",
    "    for i, (image, label) in enumerate(dataset):\n",
    "\n",
    "        image_np = image.numpy()\n",
    "        \n",
    "        image_pil = Image.fromarray(image_np)\n",
    "        \n",
    "        image_path = os.path.join(directory, f'image_{i+1}.png')\n",
    "        image_pil.save(image_path)\n",
    "\n",
    "\n",
    "train_horses_dir = 'E:/computer vision/project/changes/submisssion/data/train_horses/'\n",
    "save_images_as_png(train_horses, train_horses_dir)\n",
    "\n",
    "\n",
    "train_zebras_dir = 'E:/computer vision/project/changes/submisssion/data/train_zebras/'\n",
    "save_images_as_png(train_zebras, train_zebras_dir)\n",
    "\n",
    "\n",
    "test_horses_dir = 'E:/computer vision/project/changes/submisssion/data/test_horses/'\n",
    "save_images_as_png(test_horses, test_horses_dir)\n",
    "\n",
    "\n",
    "test_zebras_dir = 'E:/computer vision/project/changes/submisssion/data/test_zebras/'\n",
    "save_images_as_png(test_zebras, test_zebras_dir)"
   ]
  },
  {
   "cell_type": "code",
   "execution_count": null,
   "id": "71a1a210",
   "metadata": {},
   "outputs": [],
   "source": []
  }
 ],
 "metadata": {
  "kernelspec": {
   "display_name": "Python 3 (ipykernel)",
   "language": "python",
   "name": "python3"
  },
  "language_info": {
   "codemirror_mode": {
    "name": "ipython",
    "version": 3
   },
   "file_extension": ".py",
   "mimetype": "text/x-python",
   "name": "python",
   "nbconvert_exporter": "python",
   "pygments_lexer": "ipython3",
   "version": "3.8.16"
  }
 },
 "nbformat": 4,
 "nbformat_minor": 5
}
